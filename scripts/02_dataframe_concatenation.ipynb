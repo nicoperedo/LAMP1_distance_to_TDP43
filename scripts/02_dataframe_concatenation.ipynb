{
  "nbformat": 4,
  "nbformat_minor": 0,
  "metadata": {
    "colab": {
      "provenance": []
    },
    "kernelspec": {
      "name": "python3",
      "display_name": "Python 3"
    },
    "language_info": {
      "name": "python"
    }
  },
  "cells": [
    {
      "cell_type": "code",
      "execution_count": null,
      "metadata": {
        "id": "sFxWaQuIWKya"
      },
      "outputs": [],
      "source": [
        "def concatenate_excel_files(folder_path):\n",
        "    \"\"\"\n",
        "    Concatenate all Excel files in the specified folder.\n",
        "\n",
        "    Args:\n",
        "    folder_path (str): Path to the folder containing Excel files\n",
        "\n",
        "    Returns:\n",
        "    pandas.DataFrame: Concatenated dataframe\n",
        "    \"\"\"\n",
        "    dataframes = []\n",
        "\n",
        "    # Iterate through all files in the folder\n",
        "    for filename in os.listdir(folder_path):\n",
        "        if filename.endswith(('nndtocluster_scaled.csv')):\n",
        "            file_path = os.path.join(folder_path, filename)\n",
        "            df = pd.read_csv(file_path)\n",
        "            dataframes.append(df)\n",
        "            print(f\"Processed: {filename}\")\n",
        "\n",
        "    # Concatenate all dataframes\n",
        "    if dataframes:\n",
        "        return pd.concat(dataframes, ignore_index=True)\n",
        "    else:\n",
        "        print(\"No Excel files found in the specified folder.\")\n",
        "        return None\n",
        "\n",
        "# Concatenate the Excel files\n",
        "analysis_folder = 'C:/Users/u0119446/Desktop/Temp/Ongoing_projects/Jens/dataset/day 6/denoised/Analysis'\n",
        "filename = \"NNDtocluster_scaled.xlsx\"\n",
        "result = concatenate_excel_files(analysis_folder)\n",
        "result.to_excel(os.path.join(analysis_folder, filename))"
      ]
    }
  ]
}